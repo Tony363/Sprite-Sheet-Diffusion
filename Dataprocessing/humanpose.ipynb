{
 "cells": [
  {
   "cell_type": "markdown",
   "id": "dc564ee7-9580-4698-9c04-a37d8ea7bea6",
   "metadata": {},
   "source": [
    "All the codes are rearranged from controlnet annotator"
   ]
  },
  {
   "cell_type": "markdown",
   "id": "2cad2cfe-55be-4754-a7e9-0f81c56e1113",
   "metadata": {},
   "source": [
    "## Import libary"
   ]
  },
  {
   "cell_type": "code",
   "execution_count": 23,
   "id": "a2312466-3828-413f-83ec-27d10b19fbc3",
   "metadata": {},
   "outputs": [],
   "source": [
    "from openpose import OpenposeDetector\n",
    "from PIL import Image\n",
    "import cv2\n",
    "import numpy as np\n",
    "import torch"
   ]
  },
  {
   "cell_type": "code",
   "execution_count": 17,
   "id": "d85157c1-b8cb-4539-a7b5-a644c1d4d1cf",
   "metadata": {},
   "outputs": [],
   "source": [
    "image_resolution = 512\n",
    "detect_resolution = 512\n",
    "images_path = [\"motion_frames/Bandit\"]"
   ]
  },
  {
   "cell_type": "code",
   "execution_count": 18,
   "id": "f5b26331-179f-4d19-8ff7-94aa1beaf32a",
   "metadata": {},
   "outputs": [],
   "source": [
    "def HWC3(x):\n",
    "    assert x.dtype == np.uint8\n",
    "    if x.ndim == 2:\n",
    "        x = x[:, :, None]\n",
    "    assert x.ndim == 3\n",
    "    H, W, C = x.shape\n",
    "    assert C == 1 or C == 3 or C == 4\n",
    "    if C == 3:\n",
    "        return x\n",
    "    if C == 1:\n",
    "        return np.concatenate([x, x, x], axis=2)\n",
    "    if C == 4:\n",
    "        color = x[:, :, 0:3].astype(np.float32)\n",
    "        alpha = x[:, :, 3:4].astype(np.float32) / 255.0\n",
    "        y = color * alpha + 255.0 * (1.0 - alpha)\n",
    "        y = y.clip(0, 255).astype(np.uint8)\n",
    "        return y\n",
    "def resize_image(input_image, resolution):\n",
    "    H, W, C = input_image.shape\n",
    "    H = float(H)\n",
    "    W = float(W)\n",
    "    k = float(resolution) / min(H, W)\n",
    "    H *= k\n",
    "    W *= k\n",
    "    H = int(np.round(H / 64.0)) * 64\n",
    "    W = int(np.round(W / 64.0)) * 64\n",
    "    img = cv2.resize(input_image, (W, H), interpolation=cv2.INTER_LANCZOS4 if k > 1 else cv2.INTER_AREA)\n",
    "    return img"
   ]
  },
  {
   "cell_type": "code",
   "execution_count": 12,
   "id": "b78621e9-2159-476c-831f-de50e917efea",
   "metadata": {},
   "outputs": [],
   "source": [
    "apply_openpose = OpenposeDetector()"
   ]
  },
  {
   "cell_type": "code",
   "execution_count": 48,
   "id": "c0e96722-2c01-4324-bf74-63b3ac67ca9d",
   "metadata": {},
   "outputs": [
    {
     "name": "stdout",
     "output_type": "stream",
     "text": [
      "(512, 512, 3)\n"
     ]
    }
   ],
   "source": [
    "input_image = np.array(Image.open(\"frame1_upscale.png\"))\n",
    "input_image = HWC3(input_image)\n",
    "detected_map = apply_openpose(resize_image(input_image, detect_resolution),\n",
    "                                 include_body=True,\n",
    "                                 include_hand=True,\n",
    "                                 include_face=True,\n",
    "                                 use_dw_pose=False)\n",
    "print(detected_map.shape)\n",
    "image = Image.fromarray(detected_map) \n",
    "image.save(\"motion_frames/Bandit/chop/test.png\")\n",
    "detected_map = HWC3(detected_map)\n",
    "img = resize_image(input_image, image_resolution)\n",
    "H, W, C = img.shape\n",
    "\n",
    "detected_map = cv2.resize(detected_map, (W, H), interpolation=cv2.INTER_NEAREST)\n",
    "\n",
    "# control = torch.from_numpy(detected_map.copy())#.float().cuda() / 255.0"
   ]
  },
  {
   "cell_type": "code",
   "execution_count": 49,
   "id": "820eb864-bee7-4c83-8b45-1501709dc52d",
   "metadata": {},
   "outputs": [],
   "source": [
    "image = Image.fromarray(detected_map) \n",
    "image.save(\"test.png\")"
   ]
  },
  {
   "cell_type": "code",
   "execution_count": null,
   "id": "86b0289b-e30b-49b5-9968-dfa032815cca",
   "metadata": {},
   "outputs": [],
   "source": []
  }
 ],
 "metadata": {
  "kernelspec": {
   "display_name": "genai",
   "language": "python",
   "name": "genai"
  },
  "language_info": {
   "codemirror_mode": {
    "name": "ipython",
    "version": 3
   },
   "file_extension": ".py",
   "mimetype": "text/x-python",
   "name": "python",
   "nbconvert_exporter": "python",
   "pygments_lexer": "ipython3",
   "version": "3.11.9"
  }
 },
 "nbformat": 4,
 "nbformat_minor": 5
}
